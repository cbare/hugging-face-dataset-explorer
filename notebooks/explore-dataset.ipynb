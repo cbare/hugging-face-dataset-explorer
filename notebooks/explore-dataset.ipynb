{
 "cells": [
  {
   "cell_type": "markdown",
   "id": "6c0674d5",
   "metadata": {},
   "source": [
    "# medical question pairs\n",
    "\n",
    "Explore the dataset [medical_questions_pairs][1].\n",
    "\n",
    "\n",
    "[1]: https://huggingface.co/datasets/medical_questions_pairs"
   ]
  },
  {
   "cell_type": "code",
   "execution_count": 1,
   "id": "e295c74f",
   "metadata": {},
   "outputs": [],
   "source": [
    "import platform\n",
    "import sys"
   ]
  },
  {
   "cell_type": "code",
   "execution_count": 2,
   "id": "3c93b32c",
   "metadata": {},
   "outputs": [
    {
     "data": {
      "text/plain": [
       "'3.10.4'"
      ]
     },
     "execution_count": 2,
     "metadata": {},
     "output_type": "execute_result"
    }
   ],
   "source": [
    "platform.python_version()"
   ]
  },
  {
   "cell_type": "code",
   "execution_count": 3,
   "id": "004318c1",
   "metadata": {},
   "outputs": [
    {
     "data": {
      "text/plain": [
       "['/Users/jchristopherbare/Documents/projects/hf-demo/notebooks',\n",
       " '/Users/jchristopherbare/miniconda3/lib/python310.zip',\n",
       " '/Users/jchristopherbare/miniconda3/lib/python3.10',\n",
       " '/Users/jchristopherbare/miniconda3/lib/python3.10/lib-dynload',\n",
       " '',\n",
       " '/Users/jchristopherbare/Documents/projects/hf-demo/venv/lib/python3.10/site-packages']"
      ]
     },
     "execution_count": 3,
     "metadata": {},
     "output_type": "execute_result"
    }
   ],
   "source": [
    "sys.path"
   ]
  },
  {
   "cell_type": "code",
   "execution_count": 4,
   "id": "e86c491b",
   "metadata": {},
   "outputs": [],
   "source": [
    "import datasets as ds"
   ]
  },
  {
   "cell_type": "code",
   "execution_count": 5,
   "id": "f4e70df5",
   "metadata": {},
   "outputs": [
    {
     "name": "stderr",
     "output_type": "stream",
     "text": [
      "Using custom data configuration en-es\n",
      "Reusing dataset medical_questions_pairs (/Users/jchristopherbare/.cache/huggingface/datasets/medical_questions_pairs/en-es/0.0.0/db30a35b934dceb7abed5ef6b73a432bb59682d00e26f9a1acd960635333bc80)\n"
     ]
    },
    {
     "data": {
      "application/vnd.jupyter.widget-view+json": {
       "model_id": "b3b0df0ccd57423f808f5b8593f2c13d",
       "version_major": 2,
       "version_minor": 0
      },
      "text/plain": [
       "  0%|          | 0/1 [00:00<?, ?it/s]"
      ]
     },
     "metadata": {},
     "output_type": "display_data"
    },
    {
     "name": "stdout",
     "output_type": "stream",
     "text": [
      "DatasetDict({\n",
      "    train: Dataset({\n",
      "        features: ['dr_id', 'question_1', 'question_2', 'label'],\n",
      "        num_rows: 3048\n",
      "    })\n",
      "})\n"
     ]
    }
   ],
   "source": [
    "NAME = \"medical_questions_pairs\"\n",
    "\n",
    "dataset = ds.load_dataset(NAME, \"en-es\", use_auth_token=True)\n",
    "print(dataset)"
   ]
  },
  {
   "cell_type": "code",
   "execution_count": 6,
   "id": "9d385e30",
   "metadata": {},
   "outputs": [
    {
     "data": {
      "text/plain": [
       "{'dr_id': 1,\n",
       " 'question_1': 'After how many hour from drinking an antibiotic can I drink alcohol?',\n",
       " 'question_2': 'I have a party tonight and I took my last dose of Azithromycin this morning. Can I have a few drinks?',\n",
       " 'label': 1}"
      ]
     },
     "execution_count": 6,
     "metadata": {},
     "output_type": "execute_result"
    }
   ],
   "source": [
    "dataset['train'][0]"
   ]
  },
  {
   "cell_type": "code",
   "execution_count": 7,
   "id": "fabfb341",
   "metadata": {},
   "outputs": [
    {
     "data": {
      "text/plain": [
       "['default']"
      ]
     },
     "execution_count": 7,
     "metadata": {},
     "output_type": "execute_result"
    }
   ],
   "source": [
    "ds.get_dataset_config_names(NAME)"
   ]
  },
  {
   "cell_type": "code",
   "execution_count": 9,
   "id": "6eca0019",
   "metadata": {},
   "outputs": [
    {
     "name": "stderr",
     "output_type": "stream",
     "text": [
      "Using custom data configuration default\n",
      "Reusing dataset medical_questions_pairs (/Users/jchristopherbare/.cache/huggingface/datasets/medical_questions_pairs/default/0.0.0/db30a35b934dceb7abed5ef6b73a432bb59682d00e26f9a1acd960635333bc80)\n"
     ]
    },
    {
     "name": "stdout",
     "output_type": "stream",
     "text": [
      "Dataset({\n",
      "    features: ['dr_id', 'question_1', 'question_2', 'label'],\n",
      "    num_rows: 3048\n",
      "})\n"
     ]
    }
   ],
   "source": [
    "dataset_train = ds.load_dataset(NAME, \"default\", split='train')\n",
    "print(dataset_train)"
   ]
  },
  {
   "cell_type": "code",
   "execution_count": 10,
   "id": "97cec407",
   "metadata": {},
   "outputs": [
    {
     "name": "stdout",
     "output_type": "stream",
     "text": [
      "\n",
      "Dr: 1, label: 1\n",
      "After how many hour from drinking an antibiotic can I drink alcohol?\n",
      "I have a party tonight and I took my last dose of Azithromycin this morning. Can I have a few drinks?\n",
      "\n",
      "Dr: 1, label: 0\n",
      "After how many hour from drinking an antibiotic can I drink alcohol?\n",
      "I vomited this morning and I am not sure if it is the side effect of my antibiotic or the alcohol I took last night...\n",
      "\n",
      "Dr: 1, label: 1\n",
      "Am I over weight (192.9) for my age (39)?\n",
      "I am a 39 y/o male currently weighing about 193 lbs. Do you think I am overweight?\n",
      "\n",
      "Dr: 1, label: 0\n",
      "Am I over weight (192.9) for my age (39)?\n",
      "What diet is good for losing weight? Keto or vegan?\n",
      "\n",
      "Dr: 1, label: 0\n",
      "Aspirin allergy - is it worth getting a bracelet?\n",
      "How much Aspirin can I take for my headache without causing any side effects?\n",
      "\n",
      "Dr: 1, label: 1\n",
      "Aspirin allergy - is it worth getting a bracelet?\n",
      "My friend told me about this bracelet for Aspirin allergy. Does it work the way they say it does?\n",
      "\n",
      "Dr: 1, label: 0\n",
      "At a doctor's visit, I hit my head against a box on the wall containing hazardous materials (used syringes, used needles...). Will I get infected?\n",
      "Is it okay if I use the same syringe for my insulin shot? I need to take it thrice a day.\n",
      "\n",
      "Dr: 1, label: 1\n",
      "At a doctor's visit, I hit my head against a box on the wall containing hazardous materials (used syringes, used needles...). Will I get infected?\n",
      "Today morning, I had an appointment with the doctor. After that, I saw the nurse for a shot. As I got up, her box of tools fell all over me. She sent me home saying all is okay. But I am worried about an infection. Should I schedule another appointment for any blood tests?\n",
      "\n",
      "Dr: 1, label: 1\n",
      "Been on antibiotics 4 5wks top high tooth dentist cld not get needle 2 freeze 2 extract in gum really hurt she said its the tissues hve 2 go bk? Plz\n",
      "I am unable to get tooth extraction, my dentist is unable to give me anesthesia. Wouldn't antibiotics help with this since it has been going on for about 4-5 weeks? Should I go to ER?\n",
      "\n",
      "Dr: 1, label: 0\n",
      "Been on antibiotics 4 5wks top high tooth dentist cld not get needle 2 freeze 2 extract in gum really hurt she said its the tissues hve 2 go bk? Plz\n",
      "Why do I have black teeth? Should I take antibiotics? Is this an infection?\n",
      "\n",
      "Dr: 1, label: 1\n",
      "Can Adderall (dextroamphetamine and racemic amphetamine) cause ear pressure and slight headaches at the end of the day?\n",
      "What are the side effects of Adderall? Can it cause ear problems or headache?\n",
      "\n",
      "Dr: 1, label: 0\n",
      "Can Adderall (dextroamphetamine and racemic amphetamine) cause ear pressure and slight headaches at the end of the day?\n",
      "What is the maximum dose of Adderall that anybody can take?\n",
      "\n",
      "Dr: 1, label: 0\n",
      "Can coarctation of the aorta cause poor growth in height?\n",
      "ECHO done today, PA says there could be a problem. I am waiting for the specialist's appointment tomorrow. What should I ask him?\n",
      "\n",
      "Dr: 1, label: 1\n",
      "Can coarctation of the aorta cause poor growth in height?\n",
      "I am 4' 8\". My mom said that I have a birth defect (coarctation of aorta). Are the two related?\n",
      "\n",
      "Dr: 1, label: 0\n",
      "Can doxycycline treat an ear infection?\n",
      "What are the side effects of Doxycycline?\n",
      "\n",
      "Dr: 1, label: 1\n",
      "Can doxycycline treat an ear infection?\n",
      "Which antibiotic is best for an ear infection? I have an old course of Doxycycline. Would it work?\n",
      "\n",
      "Dr: 1, label: 1\n",
      "Can vinegar help drain the sinus? I've been eating balsamic vinegar dressing with my salads and I feel them draining is that normal??\n",
      "I have had sinus issues for a while now. My mom says vinegar would help with them. Is it true? I sort of tried it today...\n",
      "\n",
      "Dr: 1, label: 0\n",
      "Can vinegar help drain the sinus? I've been eating balsamic vinegar dressing with my salads and I feel them draining is that normal??\n",
      "Which is the best antibiotic for sinusitis?\n",
      "\n",
      "Dr: 1, label: 0\n",
      "Could chiari malformation cause pituitary problems or diabetes insipidus?\n",
      "Can I take insulin for my diabetes?\n",
      "\n",
      "Dr: 1, label: 1\n",
      "Could chiari malformation cause pituitary problems or diabetes insipidus?\n",
      "What are the effects of Chiari Malformation? My cousin has diabetes and his recent reports show pitutary issues. Is that related?\n"
     ]
    }
   ],
   "source": [
    "for row in list(dataset_train)[0:20]:\n",
    "    print(\n",
    "        f\"\\nDr: {row['dr_id']}, label: {row['label']}\",\n",
    "        row['question_1'],\n",
    "        row['question_2'],\n",
    "        sep=\"\\n\",\n",
    "    )"
   ]
  },
  {
   "cell_type": "code",
   "execution_count": null,
   "id": "02ddce40",
   "metadata": {},
   "outputs": [],
   "source": []
  }
 ],
 "metadata": {
  "kernelspec": {
   "display_name": "Python 3 (ipykernel)",
   "language": "python",
   "name": "python3"
  },
  "language_info": {
   "codemirror_mode": {
    "name": "ipython",
    "version": 3
   },
   "file_extension": ".py",
   "mimetype": "text/x-python",
   "name": "python",
   "nbconvert_exporter": "python",
   "pygments_lexer": "ipython3",
   "version": "3.10.4"
  }
 },
 "nbformat": 4,
 "nbformat_minor": 5
}
